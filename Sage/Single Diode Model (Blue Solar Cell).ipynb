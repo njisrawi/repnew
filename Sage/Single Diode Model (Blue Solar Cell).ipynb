{
 "cells": [
  {
   "cell_type": "code",
   "execution_count": 2,
   "metadata": {
    "scrolled": true
   },
   "outputs": [
    {
     "data": {
      "image/png": "[encoded data removed]",
      "text/plain": [
       "<matplotlib.figure.Figure object at 0x1a7da0310>"
      ]
     },
     "metadata": {},
     "output_type": "display_data"
    }
   ],
   "source": [
    "import matplotlib\n",
    "from scipy.constants import e, k\n",
    "from pylab import plot, show, xlabel, ylabel, title, grid\n",
    "\n",
    "# Constants\n",
    "q = e\n",
    "kB = k\n",
    "\n",
    "# Conditions (Blue solar cell)\n",
    "Iph = 0.1023 # Amps\n",
    "I0 = 0.1036E-6 # Amps\n",
    "n = 1.5019\n",
    "Rs = 0.06826 # Ohms\n",
    "Rp = 1000. # Ohms\n",
    "T = 300. # K\n",
    "\n",
    "# Calculations\n",
    "x_axis = []\n",
    "y_axis = []\n",
    "\n",
    "for j in range(1001) :\n",
    "    I = -0.1028+j*0.1028/1000\n",
    "    y_axis.append(I)\n",
    "    a = (q/(n*kB*T)) * I0 * Rp\n",
    "    x = a.log() + (q/(n*kB*T)) * Rp * (I+Iph+I0)\n",
    "    g = log(lambert_w(x.exp()))\n",
    "    V=  + I*Rs \\\n",
    "         + ((n*kB*T)/q) * g \\\n",
    "         - ((n*kB*T)/q) * log( (q/(n*kB*T)) * I0 * Rp )\n",
    "    x_axis.append(V)\n",
    "    \n",
    "# Define the symbolic variables \"Order is important\"\n",
    "clear_vars()\n",
    "I,Iph,I0,Rs,Rp,T,n,q,kB,R0 = var('I,Iph,I0,Rs,Rp,T,n,q,kB,R0')\n",
    "\n",
    "# Voltage explicit expression\n",
    "V(I,Iph,I0,Rs,Rp,T,n,q,kB) = + I*Rs \\\n",
    "                             + ((n*kB*T)/q) * log(lambert_w((((q/(n*kB*T)) * I0 * Rp).log() \\\n",
    "                             + (q/(n*kB*T)) * Rp * (I+Iph+I0)).exp())) \\\n",
    "                             - ((n*kB*T)/q) * log( (q/(n*kB*T)) * I0 * Rp )\n",
    "        \n",
    "\n",
    "# Ploting\n",
    "plot(x_axis,y_axis,\"r-\")\n",
    "title('I-V Characteristics For The Blue Solar Cell Example')\n",
    "xlabel('V (volts)')\n",
    "ylabel('I (amps)')\n",
    "grid(True)\n",
    "show()"
   ]
  },
  {
   "cell_type": "code",
   "execution_count": null,
   "metadata": {},
   "outputs": [],
   "source": []
  }
 ],
 "metadata": {
  "kernelspec": {
   "display_name": "SageMath 8.2",
   "language": "",
   "name": "sagemath"
  },
  "language_info": {
   "codemirror_mode": {
    "name": "ipython",
    "version": 2
   },
   "file_extension": ".py",
   "mimetype": "text/x-python",
   "name": "python",
   "nbconvert_exporter": "python",
   "pygments_lexer": "ipython2",
   "version": "2.7.14"
  }
 },
 "nbformat": 4,
 "nbformat_minor": 2
}
