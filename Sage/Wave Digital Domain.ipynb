{
 "cells": [
  {
   "cell_type": "markdown",
   "metadata": {},
   "source": [
    "# Single Diode [Jain & Kapoor]"
   ]
  },
  {
   "cell_type": "code",
   "execution_count": 11,
   "metadata": {},
   "outputs": [
    {
     "data": {
      "image/png": "[encoded data removed]",
      "text/plain": [
       "<matplotlib.figure.Figure object at 0x148c203d0>"
      ]
     },
     "metadata": {},
     "output_type": "display_data"
    }
   ],
   "source": [
    "from scipy.constants import e, k\n",
    "from pylab import plot, show, xlabel, ylabel, title, grid\n",
    "\n",
    "# Computation parameters\n",
    "I_min = -0.1028 # Initial current value for voltage evaluation\n",
    "I_max = 0.1028 # Final current value for voltage evaluation\n",
    "Steps = 1000 # Total number of evaluation points for plotting\n",
    "R0 = 0 # Reference port resistance\n",
    "\n",
    "# Define symbolic variables \"Order is important\"\n",
    "I,Iph,I0,Rs,Rp,T,n,q,kB = var('I,Iph,I0,Rs,Rp,T,n,q,kB')\n",
    "\n",
    "# Voltage explicit expression\n",
    "V(I,Iph,I0,Rs,Rp,T,n,q,kB) = + I*Rs \\\n",
    "                             + (I+Iph+I0)*Rp \\\n",
    "                             - (n*kB*T)/q * lambert_w(q/(n*kB*T) * I0*Rp * (q/(n*kB*T) * Rp*(I+Iph*I0)).exp() )\n",
    "\n",
    "# Wave Digital Domain Transformation\n",
    "A(I,Iph,I0,Rs,Rp,T,n,q,kB) = V + I*R0\n",
    "B(I,Iph,I0,Rs,Rp,T,n,q,kB) = V - I*R0\n",
    "\n",
    "# Ploting\n",
    "I_axis = []\n",
    "V_axis = []\n",
    "A_axis = []\n",
    "B_axis = []\n",
    "for j in range(Steps+1) :\n",
    "    I_step = I_min + j*(I_max-I_min)/Steps\n",
    "    I_axis.append(I_step)\n",
    "    V_axis.append(V(I_step,0.1023,0.1036E-6,0.06826,1000.,300.,1.5019,e,k))\n",
    "    A_axis.append(A(I_step,0.1023,0.1036E-6,0.06826,1000.,300.,1.5019,e,k))\n",
    "    B_axis.append(B(I_step,0.1023,0.1036E-6,0.06826,1000.,300.,1.5019,e,k))\n",
    "plot(I_axis,V_axis)\n",
    "title('Figure')\n",
    "xlabel('X')\n",
    "ylabel('Y')\n",
    "grid(True)\n",
    "show()"
   ]
  },
  {
   "cell_type": "markdown",
   "metadata": {},
   "source": [
    "# Single Diode [Valluri & Roberts]"
   ]
  },
  {
   "cell_type": "code",
   "execution_count": 12,
   "metadata": {},
   "outputs": [
    {
     "data": {
      "image/png": "[encoded data removed]",
      "text/plain": [
       "<matplotlib.figure.Figure object at 0x148bbb710>"
      ]
     },
     "metadata": {},
     "output_type": "display_data"
    }
   ],
   "source": [
    "from scipy.constants import e, k\n",
    "from pylab import plot, show, xlabel, ylabel, title, grid\n",
    "\n",
    "# Computation parameters\n",
    "I_min = -0.1028 # Initial current value for voltage evaluation\n",
    "I_max = 0.028 # Final current value for voltage evaluation\n",
    "Steps = 1000 # Total number of evaluation points for plotting\n",
    "R0 = 0 # Reference port resistance\n",
    "\n",
    "# Define symbolic variables \"Order is important\"\n",
    "I,Iph,I0,Rs,Rp,T,n,q,kB = var('I,Iph,I0,Rs,Rp,T,n,q,kB')\n",
    "\n",
    "# Voltage explicit expression\n",
    "V(I,Iph,I0,Rs,Rp,T,n,q,kB) = + I*Rs \\\n",
    "                             + ((n*kB*T)/q) * log(lambert_w((((q/(n*kB*T)) * I0 * Rp).log() \\\n",
    "                             + (q/(n*kB*T)) * Rp * (I+Iph+I0)).exp())) \\\n",
    "                             - ((n*kB*T)/q) * log( (q/(n*kB*T)) * I0 * Rp )\n",
    "\n",
    "# Wave Digital Domain Transformation\n",
    "A(I,Iph,I0,Rs,Rp,T,n,q,kB) = V + I*R0\n",
    "B(I,Iph,I0,Rs,Rp,T,n,q,kB) = V - I*R0\n",
    "\n",
    "# Ploting\n",
    "I_axis = []\n",
    "V_axis = []\n",
    "A_axis = []\n",
    "B_axis = []\n",
    "for j in range(Steps+1) :\n",
    "    I_step = I_min + j*(I_max-I_min)/Steps\n",
    "    I_axis.append(I_step)\n",
    "    V_axis.append(V(I_step,0.1023,0.1036E-6,0.06826,1000.,300.,1.5019,e,k))\n",
    "    A_axis.append(A(I_step,0.1023,0.1036E-6,0.06826,1000.,300.,1.5019,e,k))\n",
    "    B_axis.append(B(I_step,0.1023,0.1036E-6,0.06826,1000.,300.,1.5019,e,k))\n",
    "plot(I_axis,V_axis)\n",
    "title('Figure')\n",
    "xlabel('X')\n",
    "ylabel('Y')\n",
    "grid(True)\n",
    "show()"
   ]
  },
  {
   "cell_type": "code",
   "execution_count": null,
   "metadata": {},
   "outputs": [],
   "source": []
  }
 ],
 "metadata": {
  "kernelspec": {
   "display_name": "SageMath 8.2",
   "language": "",
   "name": "sagemath"
  },
  "language_info": {
   "codemirror_mode": {
    "name": "ipython",
    "version": 2
   },
   "file_extension": ".py",
   "mimetype": "text/x-python",
   "name": "python",
   "nbconvert_exporter": "python",
   "pygments_lexer": "ipython2",
   "version": "2.7.14"
  }
 },
 "nbformat": 4,
 "nbformat_minor": 2
}
